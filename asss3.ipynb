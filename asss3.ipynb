{
 "cells": [
  {
   "cell_type": "code",
   "execution_count": null,
   "id": "2bc044da-7eec-4523-87e6-1098a1b2ed64",
   "metadata": {},
   "outputs": [],
   "source": [
    "1. ANSWER:-  Python Keywords are some predefined and reserved words in Python that have special meanings. Keywords are used to define the syntax of the coding. The keyword cannot be used as an identifier, function, or variable name\n",
    "ex:-True, False, else, import, break, if, finally, is, and global."
   ]
  },
  {
   "cell_type": "code",
   "execution_count": null,
   "id": "b7b03384-e0f7-41f0-b9e9-38b23652d099",
   "metadata": {},
   "outputs": [],
   "source": []
  },
  {
   "cell_type": "code",
   "execution_count": null,
   "id": "884a0903-7f90-4e1c-82e9-01f0f00ebfe8",
   "metadata": {},
   "outputs": [],
   "source": [
    "2. ANSWER:-\n",
    "\n",
    "1.Identifiers cannot be a keyword.\n",
    "2.Identifiers are case-sensitive.\n",
    "3.It can have a sequence of letters and digits. ...\n",
    "4.It's a convention to start an identifier with a letter rather _ .\n",
    "5.Whitespaces are not allowed.\n",
    "We cannot use special symbols like !, @, #, $, and so on."
   ]
  },
  {
   "cell_type": "code",
   "execution_count": null,
   "id": "96ef4419-81ef-4854-bac2-de2241ce2b7d",
   "metadata": {},
   "outputs": [],
   "source": []
  },
  {
   "cell_type": "code",
   "execution_count": null,
   "id": "d7cdfbc7-122a-46bb-9e3d-b4b257aa0f66",
   "metadata": {},
   "outputs": [],
   "source": [
    "3.ANSWER:-\n",
    "In Python, you write a comment using the '#' symbol. \n",
    "Comments are the programmer's notes that provide clarity about the code but are ignored by the Python interpreter. \n",
    " example: \n",
    "        #This is a comment print('Hello, World! ') # Output: # Hello, World!"
   ]
  },
  {
   "cell_type": "code",
   "execution_count": null,
   "id": "b362ca7c-4ccb-4757-b2bb-4a3c8410a6d1",
   "metadata": {},
   "outputs": [],
   "source": []
  },
  {
   "cell_type": "code",
   "execution_count": null,
   "id": "cbbf43ca-c55a-442a-8221-a67e7bf1e3f8",
   "metadata": {},
   "outputs": [],
   "source": [
    "4.\n",
    "Indentation helps structure your code, making it easier to understand. \n",
    "Well-placed spaces and line breaks createa visualhierarchy, highlighting code blocks, loops, and function definitions.\n",
    "Maintainability: Clean, properly formatted code is a breeze to maintain."
   ]
  },
  {
   "cell_type": "code",
   "execution_count": null,
   "id": "60004586-8001-4b01-bd10-0f39ac5c0000",
   "metadata": {},
   "outputs": [],
   "source": []
  },
  {
   "cell_type": "code",
   "execution_count": null,
   "id": "d8800e4f-33a5-48db-8f29-ead3e803ca5b",
   "metadata": {},
   "outputs": [],
   "source": [
    "5.\n",
    "Python is a procedural language. The indentation error can occur when the spaces or tabs are not \n",
    "placed properly.it will come in between the execution and can be a show stopper \n",
    "There will not be an issue if the interpreter does not find any issues with the spaces or tabs. If there is an error due to indentation,\n",
    "it will come in between the execution and can be a show stopper."
   ]
  },
  {
   "cell_type": "code",
   "execution_count": null,
   "id": "cf00528e-dd63-47d3-a642-214481e79764",
   "metadata": {},
   "outputs": [],
   "source": []
  },
  {
   "cell_type": "code",
   "execution_count": null,
   "id": "0bfe8ae8-53f4-4acc-8b24-e13643e2e679",
   "metadata": {},
   "outputs": [],
   "source": [
    "6.\n",
    "\n",
    "Statement in Python\tExpression in Python\n",
    "A statement can be an expression.\t\n",
    "Example : x = 3 x = 3 x=3. \n",
    "\n",
    "\n",
    "\n",
    "Expression in Python\n",
    "A statement can be an expression.\tAn expression is not a statement.\n",
    "Example : x = 3 x = 3 x=3. Output : 3\tExample: x = 3 + 6 x = 3 + 6 x=3+6. Output : 9"
   ]
  },
  {
   "cell_type": "code",
   "execution_count": null,
   "id": "64a6d35e-94f1-4227-81cf-dddd6117f3f9",
   "metadata": {},
   "outputs": [],
   "source": []
  }
 ],
 "metadata": {
  "kernelspec": {
   "display_name": "Python 3 (ipykernel)",
   "language": "python",
   "name": "python3"
  },
  "language_info": {
   "codemirror_mode": {
    "name": "ipython",
    "version": 3
   },
   "file_extension": ".py",
   "mimetype": "text/x-python",
   "name": "python",
   "nbconvert_exporter": "python",
   "pygments_lexer": "ipython3",
   "version": "3.10.8"
  }
 },
 "nbformat": 4,
 "nbformat_minor": 5
}
